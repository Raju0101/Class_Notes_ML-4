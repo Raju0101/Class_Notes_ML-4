{
 "cells": [
  {
   "cell_type": "markdown",
   "id": "543ca9be-b781-4e24-b6ee-085c178110f8",
   "metadata": {},
   "source": [
    "# AssQ-29-Apr Clustering-3"
   ]
  },
  {
   "cell_type": "code",
   "execution_count": null,
   "id": "91a134b5-00ef-4a12-8dd6-ad04b16ee400",
   "metadata": {},
   "outputs": [],
   "source": [
    "Q1. Explain the basic concept of clustering and give examples of applications where clustering is useful."
   ]
  },
  {
   "cell_type": "code",
   "execution_count": null,
   "id": "0b7fca81-7297-4695-8f35-15c319b2f497",
   "metadata": {},
   "outputs": [],
   "source": [
    "Clustering analysis is broadly used in many applications such as market research, \n",
    "pattern recognition, data analysis, and image processing.\n",
    "Clustering can also help marketers discover distinct groups in their customer base. \n",
    "And they can characterize their customer groups based on the purchasing patterns.\n",
    "\n",
    "Here are 7 examples of clustering algorithms in action.\n",
    "Identifying Fake News. Fake news is not a new phenomenon, but it is one that is becoming prolific. ...\n",
    "Spam filter. ...\n",
    "Marketing and Sales. ...\n",
    "Classifying network traffic. ...\n",
    "Identifying fraudulent or criminal activity. ...\n",
    "Document analysis. ...\n",
    "Fantasy Football and Sports.\n",
    "\n",
    "In machine learning too, we often group examples as a first step to understand a subject (data set)\n",
    "in a machine learning system. Grouping unlabeled examples is called clustering. As the examples are unlabeled, \n",
    "clustering relies on unsupervised machine learning."
   ]
  },
  {
   "cell_type": "code",
   "execution_count": null,
   "id": "a3d2dec6-33f7-410f-8b20-e82ce6d44739",
   "metadata": {},
   "outputs": [],
   "source": []
  },
  {
   "cell_type": "code",
   "execution_count": null,
   "id": "89482d92-5344-444d-aafb-588f8bcc6b55",
   "metadata": {},
   "outputs": [],
   "source": [
    "Q2. What is DBSCAN and how does it differ from other clustering algorithms such as k-means and \n",
    "hierarchical clustering?"
   ]
  },
  {
   "cell_type": "code",
   "execution_count": null,
   "id": "716c0984-f22a-4a52-85db-f7b65f972598",
   "metadata": {},
   "outputs": [],
   "source": [
    "DBSCAN stands for density-based spatial clustering of applications with noise.\n",
    "It is able to find arbitrary shaped clusters and clusters with noise (i.e. outliers).\n",
    "The main idea behind DBSCAN is that a point belongs to a cluster if it is close to many points from that cluster.\n",
    "\n",
    "Density-Based Spatial Clustering of Applications with Noise (DBSCAN)\n",
    "is a base algorithm for density-based clustering. \n",
    "It can discover clusters of different shapes and sizes \n",
    "from a large amount of data, which is containing noise and outliers.\n",
    "\n",
    "DBSCAN represents Density-Based Spatial Clustering of Applications with Noise.\n",
    "...\n",
    "DBSCAN.\n",
    "K-Means\tDBSCAN\n",
    "K-means generally clusters all the objects.                 \tDBSCAN discards objects that it defines as noise.\n",
    "K-means needs a prototype-based concept of a cluster.       \tDBSCAN needs a density-based concept."
   ]
  },
  {
   "cell_type": "code",
   "execution_count": null,
   "id": "37068d2c-dd39-42d7-b72d-be6bf94b043b",
   "metadata": {},
   "outputs": [],
   "source": []
  },
  {
   "cell_type": "code",
   "execution_count": null,
   "id": "55a14b96-6339-4bbc-a36a-26ac257e31b1",
   "metadata": {},
   "outputs": [],
   "source": [
    "Q3. How do you determine the optimal values for the epsilon and minimum points parameters in DBSCAN clustering?"
   ]
  },
  {
   "cell_type": "code",
   "execution_count": null,
   "id": "188864b7-6dd4-4661-bea0-9a42d76b3d7d",
   "metadata": {},
   "outputs": [],
   "source": [
    "Step 1: Calculate the average distance between each point in the data set and\n",
    "its 20 nearest neighbors (my selected MinPts value). Step 2: Sort distance values\n",
    "by ascending value and plot. The ideal value for ε will be equal to the distance value at the “crook of the elbow”,\n",
    "or the point of maximum curvature.\n",
    "\n",
    "Generally, MinPts should be greater than or equal to the dimensionality of the data set. \n",
    "For 2-dimensional data, use DBSCAN's default value of MinPts = 4 (Ester et al., 1996).\n",
    "If your data has more than 2 dimensions, choose MinPts = 2*dim, where dim= the dimensions of your data set .\n",
    "\n",
    "A value of MinPts = 2·D is a good rule of thumb, but larger values may be necessary for\n",
    "large or noisy data sets or those containing many duplicates. epsilon (ε): To choose the value of ε,\n",
    "a k-distance graph is plotted by ordering\n",
    "the distance to the k=MinPts-1 nearest neighbor from the largest to the smallest value."
   ]
  },
  {
   "cell_type": "code",
   "execution_count": null,
   "id": "ddda148e-2cba-45eb-b639-6e2d04846baa",
   "metadata": {},
   "outputs": [],
   "source": []
  },
  {
   "cell_type": "code",
   "execution_count": null,
   "id": "11bc371d-cdef-4448-a545-c3ac9cb5ae5f",
   "metadata": {},
   "outputs": [],
   "source": [
    "Q4. How does DBSCAN clustering handle outliers in a dataset?"
   ]
  },
  {
   "cell_type": "code",
   "execution_count": null,
   "id": "4e685422-7115-4a18-9508-e07bf6d4ba7f",
   "metadata": {},
   "outputs": [],
   "source": [
    "Here SK-Learn library DBSCAN comes to the rescue to allow us to handle outliers\n",
    "for the Multi-variate datasets. DBSCAN considers two main parameters \n",
    "(as mentioned below) to form a cluster with the nearest data point and based on the \n",
    "high or low-density region, it detects Inliers or outliers.\n",
    "\n",
    "To find the outliers, find the points that have a negative silhouette coefficient, and remove it. \n",
    "Points lying on the cluster boundaries away from its cluster center can also be removed to create a robust model, \n",
    "but it depends on the case study.\n",
    "\n",
    "DBSCAN is also a great option for cases where there are many outliers in your dataset.\n",
    "DBSCAN is able to detect outlying data point that do not belong to\n",
    "any clusters and exclude those data points from the the clusters."
   ]
  },
  {
   "cell_type": "code",
   "execution_count": null,
   "id": "e8bb2594-e18a-4398-98f0-13f3d0df8f53",
   "metadata": {},
   "outputs": [],
   "source": []
  },
  {
   "cell_type": "code",
   "execution_count": null,
   "id": "939b76ce-c00a-42ff-8fb5-909315c6c807",
   "metadata": {},
   "outputs": [],
   "source": [
    "Q5. How does DBSCAN clustering differ from k-means clustering?"
   ]
  },
  {
   "cell_type": "code",
   "execution_count": null,
   "id": "b7f6cb98-5301-4903-8a14-430891d6896b",
   "metadata": {},
   "outputs": [],
   "source": [
    "K-means needs a prototype-based concept of a cluster. DBSCAN needs a density-based concept. \n",
    "K-means has difficulty with non-globular clusters and clusters of multiple sizes.\n",
    "DBSCAN is used to handle clusters of multiple sizes \n",
    "and structures and is not powerfully influenced by noise or outliers.\n",
    "\n",
    "When you don't know the number of clusters hidden in the dataset and there's no way to visualize your dataset,\n",
    "it's a good decision to use DBScan. DBSCAN produces a varying number of clusters, based on the input data.\n",
    "Here's a list of advantages of KMeans and DBScan: KMeans is much faster than DBScan.\n",
    "\n",
    "K-means has difficulty with non-globular clusters and clusters of multiple sizes. \n",
    "DBSCAN is used to handle clusters of multiple sizes and structures and is not powerfully influenced by noise or outliers.\n",
    "K-means can be used for data that has a clear centroid, including a mean or median."
   ]
  },
  {
   "cell_type": "code",
   "execution_count": null,
   "id": "b3dbfc7d-b723-448f-9590-2fc59a3eddd7",
   "metadata": {},
   "outputs": [],
   "source": []
  },
  {
   "cell_type": "code",
   "execution_count": null,
   "id": "be82079f-212c-4056-9043-07cb14aa9ad6",
   "metadata": {},
   "outputs": [],
   "source": [
    "Q6. Can DBSCAN clustering be applied to datasets with high dimensional feature spaces? If so, what are \n",
    "some potential challenges?"
   ]
  },
  {
   "cell_type": "code",
   "execution_count": null,
   "id": "972c98d6-f507-4947-b6e8-7b0fbf85e151",
   "metadata": {},
   "outputs": [],
   "source": [
    "DBSCAN is a typically used clustering algorithm due to its clustering ability\n",
    "for arbitrarily-shaped clusters and its robustness to outliers. Generally,\n",
    "the complexity of DBSCAN is O(n^2) in the worst case,\n",
    "and it practically becomes more severe in higher dimension.\n",
    "\n",
    "Four problems need to be overcome for clustering in high-dimensional data:\n",
    "Multiple dimensions are hard to think in, impossible to visualize, and, \n",
    "due to the exponential growth of the number of possible values with each dimension, \n",
    "complete enumeration of all subspaces becomes intractable with increasing dimensionality.\n",
    "\n",
    " DBSCAN cannot cluster data-sets with large differences in densities well, \n",
    "since then the minPts-eps combination cannot be chosen appropriately for all clusters. \n",
    "Choosing a meaningful eps value can be difficult if the data isn't well understood.\n",
    "DBSCAN is not entirely deterministic."
   ]
  },
  {
   "cell_type": "code",
   "execution_count": null,
   "id": "12759146-d343-4469-bccd-f854969d647a",
   "metadata": {},
   "outputs": [],
   "source": []
  },
  {
   "cell_type": "code",
   "execution_count": null,
   "id": "f20a1d91-2d70-4e56-b403-ab459101021a",
   "metadata": {},
   "outputs": [],
   "source": [
    "Q7. How does DBSCAN clustering handle clusters with varying densities?"
   ]
  },
  {
   "cell_type": "code",
   "execution_count": null,
   "id": "557434c5-1a6f-47af-9070-07e024c9264b",
   "metadata": {},
   "outputs": [],
   "source": [
    "DBSCAN can find clusters of arbitrary shapes, but it cannot handle data\n",
    "containing clusters of varying densities. Further,\n",
    "the cluster quality in DBSCAN algorithm depends on the\n",
    "ability of the user to select a good set of parameters.\n",
    "\n",
    "The strength of K-DBSCAN lies in finding arbitrary shaped clusters in variable density regions.\n",
    "Moreover, it can also discover clusters with \n",
    "overlapping spatial regions, but differing density levels.\n",
    "\n",
    "DBSCAN is a density-based clustering algorithm that works on the assumption that \n",
    "clusters are dense regions in space separated by regions of lower density.\n",
    "It groups 'densely grouped' data points into a single cluster.\n",
    "\n",
    "DBSCAN can find clusters of arbitrary shapes, but it cannot handle data containing clusters of varying densities."
   ]
  },
  {
   "cell_type": "code",
   "execution_count": null,
   "id": "889be242-7379-4570-ba2e-2aec7710dfdf",
   "metadata": {},
   "outputs": [],
   "source": []
  },
  {
   "cell_type": "code",
   "execution_count": null,
   "id": "25f131ce-2bdc-4629-8361-5c6598978e43",
   "metadata": {},
   "outputs": [],
   "source": [
    "Q8. What are some common evaluation metrics used to assess the quality of DBSCAN clustering results?"
   ]
  },
  {
   "cell_type": "code",
   "execution_count": null,
   "id": "35913231-9a94-46c1-8dfb-7266eda1adec",
   "metadata": {},
   "outputs": [],
   "source": [
    "The two most popular metrics evaluation metrics for clustering algorithms are the Silhouette coefficient and Dunn's Index\n",
    "\n",
    "DBSCAN has two parameters. The first is ε, epsilon (“esp”), which defines the maximum \n",
    "distance allowed between two points within the same cluster. The second is minimum samples (“MinPts”),\n",
    "which defines the minimum number of data points required to form a distinct cluster.\n",
    "\n",
    "Intrinsic Measures that does not require ground truth labels.\n",
    "Some of the clustering performance measures are Silhouette Coefficient, \n",
    "Calinski-Harabasz Index, Davies-Bouldin Index etc."
   ]
  },
  {
   "cell_type": "code",
   "execution_count": null,
   "id": "f497354f-6c6f-4188-ad0e-87b627a5b588",
   "metadata": {},
   "outputs": [],
   "source": []
  },
  {
   "cell_type": "code",
   "execution_count": null,
   "id": "6ba0e435-ac5d-4db9-bee9-9f0f0d761518",
   "metadata": {},
   "outputs": [],
   "source": [
    "Q9. Can DBSCAN clustering be used for semi-supervised learning tasks?"
   ]
  },
  {
   "cell_type": "code",
   "execution_count": null,
   "id": "50db0e87-f553-48f8-8054-788191db10ab",
   "metadata": {},
   "outputs": [],
   "source": [
    "Semi-supervised learning with clustering is a technique that combines labeled and unlabeled \n",
    "data to improve the performance of machine learning models. \n",
    "It can be useful when labeling data is expensive, time-consuming, or impractical.\n",
    "\n",
    "Density-based spatial clustering of applications with noise (DBSCAN) is an unsupervised clustering ML algorithm. \n",
    "Unsupervised in the sense that it does not use pre-labeled targets to cluster the data points.\n",
    "Clustering in the sense that it attempts\n",
    "to group similar data points into artificial groups or clusters"
   ]
  },
  {
   "cell_type": "code",
   "execution_count": null,
   "id": "bcaf17af-f208-4748-9ec5-7466a8b8d087",
   "metadata": {},
   "outputs": [],
   "source": []
  },
  {
   "cell_type": "code",
   "execution_count": null,
   "id": "99d8a788-182b-4cb5-a176-9ee200b6d704",
   "metadata": {},
   "outputs": [],
   "source": [
    "Q10. How does DBSCAN clustering handle datasets with noise or missing values?"
   ]
  },
  {
   "cell_type": "code",
   "execution_count": null,
   "id": "8de3adfc-3376-4f91-935d-85a40169b953",
   "metadata": {},
   "outputs": [],
   "source": [
    "DBSCAN stands for density-based spatial clustering of applications with noise.\n",
    "It is able to find arbitrary shaped clusters and clusters with noise (i.e. outliers).\n",
    "The main idea behind DBSCAN is that a point belongs\n",
    "to a cluster if it is close to many points from that cluster.\n",
    "\n",
    "If the issue is due to the presence of null values in road_id,\n",
    "you can first impute the missing values and then apply dbscan. \n",
    "For dealing with the missing values, you can either delete the row with missing road_id ,\n",
    "but this will result in loss of data."
   ]
  },
  {
   "cell_type": "code",
   "execution_count": null,
   "id": "89f2b5d6-d463-4353-9a33-648d358de1b4",
   "metadata": {},
   "outputs": [],
   "source": []
  },
  {
   "cell_type": "code",
   "execution_count": null,
   "id": "32a7aa6e-5989-4143-8973-3496dfe1276a",
   "metadata": {},
   "outputs": [],
   "source": [
    ".............................The End....................."
   ]
  }
 ],
 "metadata": {
  "kernelspec": {
   "display_name": "Python 3 (ipykernel)",
   "language": "python",
   "name": "python3"
  },
  "language_info": {
   "codemirror_mode": {
    "name": "ipython",
    "version": 3
   },
   "file_extension": ".py",
   "mimetype": "text/x-python",
   "name": "python",
   "nbconvert_exporter": "python",
   "pygments_lexer": "ipython3",
   "version": "3.10.6"
  }
 },
 "nbformat": 4,
 "nbformat_minor": 5
}
